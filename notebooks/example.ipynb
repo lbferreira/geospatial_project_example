{
 "cells": [
  {
   "cell_type": "code",
   "execution_count": null,
   "metadata": {},
   "outputs": [],
   "source": [
    "# CHECK IF DATA FROM BOTH SCANNERS HAVE THE SAME RESULTS"
   ]
  },
  {
   "cell_type": "code",
   "execution_count": null,
   "metadata": {},
   "outputs": [],
   "source": []
  },
  {
   "cell_type": "code",
   "execution_count": null,
   "metadata": {},
   "outputs": [],
   "source": [
    "from s2scan.s2scan import s2sr_gcerdata\n",
    "\n",
    "scanner = s2sr_gcerdata.S2L2AScanner(\n",
    "    root_folder=\"Z:/dbcenter/images/sentinel/scenes/level_sr/\",\n",
    "    ini_date='2022-01-01',\n",
    "    end_date='2022-12-31',\n",
    "    max_cloud_cover=40,\n",
    "    tiles=['10SFG', '34HCH'],\n",
    ")\n",
    "bands_10m = scanner.get_files_info(resolution=10, bands=[\"B02\", \"B03\", \"B04\", \"B08\"])\n",
    "bands_20m = scanner.get_files_info(resolution=20, bands=[\"B11\",])\n",
    "scl_band_info = scanner.get_files_info(resolution=20, bands=[\"SCL\",])"
   ]
  },
  {
   "cell_type": "code",
   "execution_count": null,
   "metadata": {},
   "outputs": [],
   "source": [
    "from fieldseg import s2sr_gcerdata\n",
    "\n",
    "scanner = s2sr_gcerdata.S2L2AScanner(\n",
    "    root_folder=\"Z:/dbcenter/images/sentinel/scenes/level_sr/\",\n",
    "    ini_date='2022-01-01',\n",
    "    end_date='2022-12-31',\n",
    "    max_cloud_cover=40,\n",
    "    tiles=['10SFG', '34HCH'],\n",
    ")\n",
    "bands_10m_ref = scanner.get_files_info(resolution=10, bands=[\"B02\", \"B03\", \"B04\", \"B08\"])\n",
    "bands_20m_ref = scanner.get_files_info(resolution=20, bands=[\"B11\",])\n",
    "scl_band_info_ref = scanner.get_files_info(resolution=20, bands=[\"SCL\",])"
   ]
  },
  {
   "cell_type": "code",
   "execution_count": null,
   "metadata": {},
   "outputs": [],
   "source": []
  },
  {
   "cell_type": "code",
   "execution_count": null,
   "metadata": {},
   "outputs": [],
   "source": [
    "from fieldseg import s2sr_gcerdata, xarray_utils\n",
    "from pathlib import Path\n",
    "import rioxarray"
   ]
  },
  {
   "cell_type": "code",
   "execution_count": null,
   "metadata": {},
   "outputs": [],
   "source": [
    "scl_data_20m = s2sr_gcerdata.load_tile_dataarray(\n",
    "    scl_band_info, chunks={\"x\": 1024, \"y\": 1024}\n",
    ")\n",
    "# 10m bands\n",
    "bands_data_10m = s2sr_gcerdata.load_tile_dataarray(\n",
    "    bands_10m, chunks={\"x\": 1024, \"y\": 1024}\n",
    ")\n",
    "bands_data_10m = s2sr_gcerdata.normalize_s2(bands_data_10m, bands_10m)\n",
    "# SCL is reprojected using nearest neighbor resampling to avoid creating new values.\n",
    "scl_data_10m = xarray_utils.xr_reproject_match(\n",
    "    scl_data_20m, bands_data_10m, resampling=\"nearest\"\n",
    ")\n",
    "bands_data_10m = xarray_utils.apply_s2_scl_mask(bands_data_10m, scl_data_10m)"
   ]
  },
  {
   "cell_type": "code",
   "execution_count": null,
   "metadata": {},
   "outputs": [],
   "source": [
    "bands_data_10m = bands_data_10m.isel(x=slice(7000, 7512), y=slice(5000, 5512))\n",
    "bands_data_10m = bands_data_10m.groupby(\"time.month\").mean().load()"
   ]
  },
  {
   "cell_type": "code",
   "execution_count": null,
   "metadata": {},
   "outputs": [],
   "source": [
    "root_export_folder = Path('./images')\n",
    "for month, month_data in bands_data_10m.groupby(\"month\"):\n",
    "    for band, band_data in month_data.groupby(\"band\"):\n",
    "        export_folder = root_export_folder / str(month)\n",
    "        export_folder.mkdir(exist_ok=True, parents=True)\n",
    "        file = f'month_{month}_band_{band}.tif'\n",
    "        band_data.rio.to_raster(export_folder / file, compress=\"LZW\")"
   ]
  },
  {
   "cell_type": "code",
   "execution_count": null,
   "metadata": {},
   "outputs": [],
   "source": [
    "bands_data_10m.sel(band=[\"B04\", \"B03\", \"B02\", ]).plot.imshow(col=\"month\", col_wrap=4, robust=True)"
   ]
  },
  {
   "cell_type": "code",
   "execution_count": null,
   "metadata": {},
   "outputs": [],
   "source": []
  },
  {
   "cell_type": "code",
   "execution_count": null,
   "metadata": {},
   "outputs": [],
   "source": []
  },
  {
   "cell_type": "code",
   "execution_count": null,
   "metadata": {},
   "outputs": [],
   "source": []
  },
  {
   "cell_type": "code",
   "execution_count": null,
   "metadata": {},
   "outputs": [],
   "source": []
  }
 ],
 "metadata": {
  "kernelspec": {
   "display_name": "samgeo1",
   "language": "python",
   "name": "python3"
  },
  "language_info": {
   "codemirror_mode": {
    "name": "ipython",
    "version": 3
   },
   "file_extension": ".py",
   "mimetype": "text/x-python",
   "name": "python",
   "nbconvert_exporter": "python",
   "pygments_lexer": "ipython3",
   "version": "3.10.12"
  }
 },
 "nbformat": 4,
 "nbformat_minor": 2
}
