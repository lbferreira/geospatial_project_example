{
 "cells": [
  {
   "cell_type": "code",
   "execution_count": null,
   "metadata": {},
   "outputs": [],
   "source": [
    "from s2scan.s2scan import s2sr_gcerdata"
   ]
  },
  {
   "cell_type": "code",
   "execution_count": null,
   "metadata": {},
   "outputs": [],
   "source": [
    "scanner = s2sr_gcerdata.S2L2AScanner(\n",
    "    root_folder=\"Z:/dbcenter/images/sentinel/scenes/level_sr/\",\n",
    "    ini_date='2022-01-01',\n",
    "    end_date='2022-12-31',\n",
    "    max_cloud_cover=40,\n",
    "    tiles=['56JLQ', '34HCH'],\n",
    ")\n",
    "bands_10m = scanner.get_files_info(resolution=10, bands=[\"B02\", \"B03\", \"B04\", \"B08\"])\n",
    "# bands_20m = scanner.get_files_info(resolution=20, bands=[\"B11\", ])\n",
    "# scl_band_info = scanner.get_files_info(resolution=20, bands=[\"SCL\",])\n",
    "bands_10m"
   ]
  },
  {
   "cell_type": "code",
   "execution_count": null,
   "metadata": {},
   "outputs": [],
   "source": []
  },
  {
   "cell_type": "code",
   "execution_count": null,
   "metadata": {},
   "outputs": [],
   "source": []
  }
 ],
 "metadata": {
  "kernelspec": {
   "display_name": "fieldseg2",
   "language": "python",
   "name": "python3"
  },
  "language_info": {
   "codemirror_mode": {
    "name": "ipython",
    "version": 3
   },
   "file_extension": ".py",
   "mimetype": "text/x-python",
   "name": "python",
   "nbconvert_exporter": "python",
   "pygments_lexer": "ipython3",
   "version": "3.10.12"
  }
 },
 "nbformat": 4,
 "nbformat_minor": 2
}
